{
 "cells": [
  {
   "cell_type": "code",
   "execution_count": 5,
   "metadata": {},
   "outputs": [],
   "source": [
    "import pandas as pd \n",
    "import numpy as np\n",
    "import matplotlib.pyplot as plt\n",
    "ur1=\"https://drive.google.com/file/d/1dKZxapT3xLzOTOpy1LCyqctL8YEvzp4Y/view?usp=drive_link\"\n",
    "ur1='https://drive.google.com/uc?id=' + ur1.split('/')[-2]\n",
    "df=pd.read_csv(ur1)"
   ]
  },
  {
   "cell_type": "markdown",
   "metadata": {},
   "source": [
    "##### Task 2: Cuisine Combination"
   ]
  },
  {
   "cell_type": "markdown",
   "metadata": {},
   "source": [
    "##### Identify the most common combinations of cuisines in the dataset.\n"
   ]
  },
  {
   "cell_type": "code",
   "execution_count": 6,
   "metadata": {},
   "outputs": [
    {
     "name": "stdout",
     "output_type": "stream",
     "text": [
      "Top 10 most common combinations are : Cuisines\n",
      "Italian, Deli               4.9\n",
      "Hawaiian, Seafood           4.9\n",
      "American, Sandwich, Tea     4.9\n",
      "Continental, Indian         4.9\n",
      "European, Asian, Indian     4.9\n",
      "European, Contemporary      4.9\n",
      "European, German            4.9\n",
      "BBQ, Breakfast, Southern    4.9\n",
      "American, Coffee and Tea    4.9\n",
      "Sunda, Indonesian           4.9\n",
      "Name: Aggregate rating, dtype: float64\n"
     ]
    }
   ],
   "source": [
    "common_combinations = df.groupby('Cuisines')['Aggregate rating'].mean().sort_values(ascending=False)\n",
    "top10=common_combinations.head(10)\n",
    "print(\"Top 10 most common combinations are :\",top10)\n"
   ]
  },
  {
   "cell_type": "markdown",
   "metadata": {},
   "source": [
    "##### Determine if certain cuisine combinations tend to have higher ratings."
   ]
  },
  {
   "cell_type": "code",
   "execution_count": 7,
   "metadata": {},
   "outputs": [
    {
     "name": "stdout",
     "output_type": "stream",
     "text": [
      "The Max is : 4.9\n"
     ]
    }
   ],
   "source": [
    "max_rating = common_combinations.iloc[0]\n",
    "print(\"The Max is :\",max_rating)"
   ]
  },
  {
   "cell_type": "code",
   "execution_count": 8,
   "metadata": {},
   "outputs": [
    {
     "name": "stdout",
     "output_type": "stream",
     "text": [
      "Restaurants having the maximum :  3                                           Ooma\n",
      "8       Spiral - Sofitel Philippine Plaza Manila\n",
      "10                              Silantro Fil-Mex\n",
      "39                                    Coco Bambu\n",
      "48                            Braseiro da G��vea\n",
      "                          ...                   \n",
      "9484              Restaurant Mosaic @ The Orient\n",
      "9514                            Ministry of Crab\n",
      "9524                                Gaga Manjero\n",
      "9538                                   Starbucks\n",
      "9540                            Draft Gastro Pub\n",
      "Name: Restaurant Name, Length: 61, dtype: object\n"
     ]
    }
   ],
   "source": [
    "max_rated_rest = df.loc[df['Aggregate rating'] == max_rating]\n",
    "print(\"Restaurants having the maximum : \",max_rated_rest['Restaurant Name'])"
   ]
  },
  {
   "cell_type": "code",
   "execution_count": null,
   "metadata": {},
   "outputs": [],
   "source": []
  }
 ],
 "metadata": {
  "kernelspec": {
   "display_name": "Python 3",
   "language": "python",
   "name": "python3"
  },
  "language_info": {
   "codemirror_mode": {
    "name": "ipython",
    "version": 3
   },
   "file_extension": ".py",
   "mimetype": "text/x-python",
   "name": "python",
   "nbconvert_exporter": "python",
   "pygments_lexer": "ipython3",
   "version": "3.12.6"
  }
 },
 "nbformat": 4,
 "nbformat_minor": 2
}
